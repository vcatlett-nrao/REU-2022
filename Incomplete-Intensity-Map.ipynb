{
 "cells": [
  {
   "cell_type": "markdown",
   "id": "cb22dae1",
   "metadata": {},
   "source": [
    "# Incomplete Intensity Map\n",
    "### Victoria Catlett"
   ]
  },
  {
   "cell_type": "code",
   "execution_count": 1,
   "id": "39a60e13",
   "metadata": {},
   "outputs": [],
   "source": [
    "import numpy as np\n",
    "import matplotlib.pyplot as plt"
   ]
  },
  {
   "cell_type": "code",
   "execution_count": 29,
   "id": "e377f64e",
   "metadata": {},
   "outputs": [],
   "source": [
    "ra = list(np.linspace(30, 40, num=55))\n",
    "dec_temp = list(np.linspace(10, 20, num=5))\n",
    "\n",
    "dec = []\n",
    "for i in range(11):\n",
    "    for j in range(5):\n",
    "        dec.append(dec_temp[j])\n",
    "intensity = list(np.random.rand(55))\n",
    "img = np.zeros([8,8])\n",
    "\n",
    "ra_min = np.min(ra)\n",
    "ra_max = np.max(ra)\n",
    "dec_min = np.min(dec)\n",
    "dec_max = np.max(dec)\n",
    "int_min = np.min(intensity)\n",
    "int_max = np.max(intensity)"
   ]
  },
  {
   "cell_type": "code",
   "execution_count": 30,
   "id": "369425eb",
   "metadata": {},
   "outputs": [
    {
     "data": {
      "text/plain": [
       "[10.0, 11.25, 12.5, 13.75, 15.0, 16.25, 17.5, 18.75]"
      ]
     },
     "execution_count": 30,
     "metadata": {},
     "output_type": "execute_result"
    }
   ],
   "source": [
    "n = 8\n",
    "\n",
    "d_ra = (ra_max-ra_min)/n\n",
    "d_dec = (dec_max-dec_min)/n\n",
    "\n",
    "matrix_ra = [ra_min+i*d_ra for i in range(n)]\n",
    "matrix_dec = [dec_min+i*d_dec for i in range(n)]\n",
    "matrix_dec"
   ]
  },
  {
   "cell_type": "code",
   "execution_count": 34,
   "id": "2423f5ea",
   "metadata": {},
   "outputs": [],
   "source": [
    "for i in range(len(ra)):\n",
    "    ra_i = max(r for r in matrix_ra if r <= ra[i])\n",
    "    dec_i = max(d for d in matrix_dec if d <= dec[i])\n",
    "    ra_indx = np.where(matrix_ra == ra_i)[0][0]\n",
    "    dec_indx = np.where(matrix_dec == dec_i)[0][0]\n",
    "    img[dec_indx][ra_indx] = intensity[i]"
   ]
  },
  {
   "cell_type": "code",
   "execution_count": 35,
   "id": "b3e5e787",
   "metadata": {},
   "outputs": [
    {
     "data": {
      "text/plain": [
       "<matplotlib.image.AxesImage at 0x7fd3382cfe50>"
      ]
     },
     "execution_count": 35,
     "metadata": {},
     "output_type": "execute_result"
    },
    {
     "data": {
      "image/png": "[encoded data removed]",
      "text/plain": [
       "<Figure size 432x288 with 1 Axes>"
      ]
     },
     "metadata": {
      "needs_background": "light"
     },
     "output_type": "display_data"
    }
   ],
   "source": [
    "plt.imshow(img)"
   ]
  },
  {
   "cell_type": "code",
   "execution_count": null,
   "id": "39d9d40b",
   "metadata": {},
   "outputs": [],
   "source": []
  }
 ],
 "metadata": {
  "kernelspec": {
   "display_name": "Python 3 (ipykernel)",
   "language": "python",
   "name": "python3"
  },
  "language_info": {
   "codemirror_mode": {
    "name": "ipython",
    "version": 3
   },
   "file_extension": ".py",
   "mimetype": "text/x-python",
   "name": "python",
   "nbconvert_exporter": "python",
   "pygments_lexer": "ipython3",
   "version": "3.7.11"
  }
 },
 "nbformat": 4,
 "nbformat_minor": 5
}
